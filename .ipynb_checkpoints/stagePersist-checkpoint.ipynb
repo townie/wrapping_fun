{
 "cells": [
  {
   "cell_type": "code",
   "execution_count": 28,
   "metadata": {
    "collapsed": false
   },
   "outputs": [],
   "source": [
    "import random\n",
    "\n",
    "class RandomStage():\n",
    "    def __init__(self, num=None):\n",
    "        self.num = num\n",
    "        \n",
    "    def execute_fit(self, foo='?'):\n",
    "        if foo == '?':\n",
    "            self.foo = random.randrange(0, 101)\n",
    "        else:\n",
    "            self.foo = foo\n",
    "        return self\n",
    "    \n",
    "    def execute_transform(self, data):\n",
    "        return data.fillna(self.foo)\n",
    "         "
   ]
  },
  {
   "cell_type": "code",
   "execution_count": 29,
   "metadata": {
    "collapsed": false
   },
   "outputs": [],
   "source": [
    "import joblib\n",
    "\n",
    "def save_fitted(name_of_thing):\n",
    "    def stage_saver(func):\n",
    "        def func_wrapper(class_self):\n",
    "            results = func(class_self)\n",
    "            if class_self.where_to_save is not None:\n",
    "                saving_logic(results, class_self.where_to_save, name_of_thing)\n",
    "            return results\n",
    "        return func_wrapper\n",
    "    return stage_saver\n",
    "\n",
    "\n",
    "def saving_logic(what_to_save, place_to_save, name_of_thing):\n",
    "    fileloc = place_to_save + name_of_thing\n",
    "    joblib.dump(what_to_save, fileloc)\n",
    "\n",
    "def loading_logic(place_to_save, name_of_thing):\n",
    "    fileloc = place_to_save + name_of_thing\n",
    "    return joblib.load(fileloc)\n",
    "                                \n",
    "                 \n",
    "def load_fitted(name_of_thing):\n",
    "    def stage_loader(func):\n",
    "        def func_wrapper(class_self, data):\n",
    "            if class_self.where_to_save:\n",
    "                results = loading_logic(class_self.where_to_save, name_of_thing)\n",
    "                class_self.__dict__.update({name_of_thing: results})                                         \n",
    "            return func(class_self, data)\n",
    "        return func_wrapper\n",
    "    return stage_loader"
   ]
  },
  {
   "cell_type": "code",
   "execution_count": null,
   "metadata": {
    "collapsed": false
   },
   "outputs": [],
   "source": []
  },
  {
   "cell_type": "code",
   "execution_count": 30,
   "metadata": {
    "collapsed": false
   },
   "outputs": [],
   "source": [
    "class SimpleDag():\n",
    "    \n",
    "    def __init__(self, stage=None, where_to_save=None):\n",
    "        self.stage = stage\n",
    "        self.fitted_stage = None\n",
    "        self.where_to_save = where_to_save\n",
    "        \n",
    "    def build_run(self, data):\n",
    "        self.stage_fit()\n",
    "        return self.stage_transform(data)\n",
    "    \n",
    "    @save_fitted('fitted_stage')\n",
    "    def stage_fit(self):\n",
    "        self.fitted_stage = self.stage.execute_fit()\n",
    "        return self.fitted_stage\n",
    "    \n",
    "    @load_fitted('fitted_stage')\n",
    "    def stage_transform(self, data):\n",
    "        return self.fitted_stage.execute_transform(data)\n",
    "\n",
    "    def apply_run(self, data):\n",
    "        return self.stage_transform(data)\n",
    " "
   ]
  },
  {
   "cell_type": "code",
   "execution_count": 31,
   "metadata": {
    "collapsed": false
   },
   "outputs": [
    {
     "data": {
      "text/plain": [
       "<__main__.SimpleDag at 0x7f2151c194e0>"
      ]
     },
     "execution_count": 31,
     "metadata": {},
     "output_type": "execute_result"
    }
   ],
   "source": [
    "dag = SimpleDag(stage=RandomStage(), where_to_save=\"/tmp/\")\n",
    "dag"
   ]
  },
  {
   "cell_type": "code",
   "execution_count": null,
   "metadata": {
    "collapsed": true
   },
   "outputs": [],
   "source": []
  },
  {
   "cell_type": "code",
   "execution_count": 32,
   "metadata": {
    "collapsed": true
   },
   "outputs": [],
   "source": [
    "import pandas as pd\n",
    "d = {'key' : [1., 2., 3., 4.],\n",
    "     'data' : [None, None, None, None]}\n",
    "df = pd.DataFrame(d)"
   ]
  },
  {
   "cell_type": "code",
   "execution_count": null,
   "metadata": {
    "collapsed": true
   },
   "outputs": [],
   "source": []
  },
  {
   "cell_type": "code",
   "execution_count": 33,
   "metadata": {
    "collapsed": false
   },
   "outputs": [
    {
     "data": {
      "text/plain": [
       "99"
      ]
     },
     "execution_count": 33,
     "metadata": {},
     "output_type": "execute_result"
    }
   ],
   "source": [
    "dag.build_run(df)\n",
    "dag.stage.foo\n"
   ]
  },
  {
   "cell_type": "code",
   "execution_count": 34,
   "metadata": {
    "collapsed": false
   },
   "outputs": [
    {
     "data": {
      "text/html": [
       "<div>\n",
       "<table border=\"1\" class=\"dataframe\">\n",
       "  <thead>\n",
       "    <tr style=\"text-align: right;\">\n",
       "      <th></th>\n",
       "      <th>data</th>\n",
       "      <th>key</th>\n",
       "    </tr>\n",
       "  </thead>\n",
       "  <tbody>\n",
       "    <tr>\n",
       "      <th>0</th>\n",
       "      <td>99</td>\n",
       "      <td>1.0</td>\n",
       "    </tr>\n",
       "    <tr>\n",
       "      <th>1</th>\n",
       "      <td>99</td>\n",
       "      <td>2.0</td>\n",
       "    </tr>\n",
       "    <tr>\n",
       "      <th>2</th>\n",
       "      <td>99</td>\n",
       "      <td>3.0</td>\n",
       "    </tr>\n",
       "    <tr>\n",
       "      <th>3</th>\n",
       "      <td>99</td>\n",
       "      <td>4.0</td>\n",
       "    </tr>\n",
       "  </tbody>\n",
       "</table>\n",
       "</div>"
      ],
      "text/plain": [
       "   data  key\n",
       "0    99  1.0\n",
       "1    99  2.0\n",
       "2    99  3.0\n",
       "3    99  4.0"
      ]
     },
     "execution_count": 34,
     "metadata": {},
     "output_type": "execute_result"
    }
   ],
   "source": [
    "dag.apply_run(df)"
   ]
  },
  {
   "cell_type": "code",
   "execution_count": 35,
   "metadata": {
    "collapsed": false
   },
   "outputs": [
    {
     "data": {
      "text/plain": [
       "<__main__.SimpleDag at 0x7f2151c19ac8>"
      ]
     },
     "execution_count": 35,
     "metadata": {},
     "output_type": "execute_result"
    }
   ],
   "source": [
    "dag2 = SimpleDag(stage=RandomStage(),where_to_save='/tmp/')\n",
    "dag2"
   ]
  },
  {
   "cell_type": "code",
   "execution_count": 36,
   "metadata": {
    "collapsed": false
   },
   "outputs": [
    {
     "data": {
      "text/html": [
       "<div>\n",
       "<table border=\"1\" class=\"dataframe\">\n",
       "  <thead>\n",
       "    <tr style=\"text-align: right;\">\n",
       "      <th></th>\n",
       "      <th>data</th>\n",
       "      <th>key</th>\n",
       "    </tr>\n",
       "  </thead>\n",
       "  <tbody>\n",
       "    <tr>\n",
       "      <th>0</th>\n",
       "      <td>99</td>\n",
       "      <td>1.0</td>\n",
       "    </tr>\n",
       "    <tr>\n",
       "      <th>1</th>\n",
       "      <td>99</td>\n",
       "      <td>2.0</td>\n",
       "    </tr>\n",
       "    <tr>\n",
       "      <th>2</th>\n",
       "      <td>99</td>\n",
       "      <td>3.0</td>\n",
       "    </tr>\n",
       "    <tr>\n",
       "      <th>3</th>\n",
       "      <td>99</td>\n",
       "      <td>4.0</td>\n",
       "    </tr>\n",
       "  </tbody>\n",
       "</table>\n",
       "</div>"
      ],
      "text/plain": [
       "   data  key\n",
       "0    99  1.0\n",
       "1    99  2.0\n",
       "2    99  3.0\n",
       "3    99  4.0"
      ]
     },
     "execution_count": 36,
     "metadata": {},
     "output_type": "execute_result"
    }
   ],
   "source": [
    "dag2.apply_run(df)"
   ]
  },
  {
   "cell_type": "code",
   "execution_count": 37,
   "metadata": {
    "collapsed": false
   },
   "outputs": [
    {
     "data": {
      "text/plain": [
       "{'fitted_stage': <__main__.RandomStage at 0x7f2151c19ba8>,\n",
       " 'stage': <__main__.RandomStage at 0x7f2151c19748>,\n",
       " 'where_to_save': '/tmp/'}"
      ]
     },
     "execution_count": 37,
     "metadata": {},
     "output_type": "execute_result"
    }
   ],
   "source": [
    "dag2.__dict__"
   ]
  },
  {
   "cell_type": "code",
   "execution_count": 38,
   "metadata": {
    "collapsed": false
   },
   "outputs": [
    {
     "data": {
      "text/plain": [
       "{'fitted_stage': <__main__.RandomStage at 0x7f2151c195f8>,\n",
       " 'stage': <__main__.RandomStage at 0x7f2151c194a8>,\n",
       " 'where_to_save': '/tmp/'}"
      ]
     },
     "execution_count": 38,
     "metadata": {},
     "output_type": "execute_result"
    }
   ],
   "source": [
    "dag.__dict__"
   ]
  },
  {
   "cell_type": "code",
   "execution_count": null,
   "metadata": {
    "collapsed": true
   },
   "outputs": [],
   "source": []
  },
  {
   "cell_type": "code",
   "execution_count": null,
   "metadata": {
    "collapsed": true
   },
   "outputs": [],
   "source": []
  }
 ],
 "metadata": {
  "kernelspec": {
   "display_name": "Python 3",
   "language": "python",
   "name": "python3"
  },
  "language_info": {
   "codemirror_mode": {
    "name": "ipython",
    "version": 3
   },
   "file_extension": ".py",
   "mimetype": "text/x-python",
   "name": "python",
   "nbconvert_exporter": "python",
   "pygments_lexer": "ipython3",
   "version": "3.5.1"
  }
 },
 "nbformat": 4,
 "nbformat_minor": 1
}
